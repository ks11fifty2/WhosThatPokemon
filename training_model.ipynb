{
 "cells": [
  {
   "cell_type": "code",
   "execution_count": 1,
   "metadata": {},
   "outputs": [
    {
     "name": "stdout",
     "output_type": "stream",
     "text": [
      "WARNING:tensorflow:From c:\\Users\\ADMIN\\AppData\\Local\\Programs\\Python\\Python39\\lib\\site-packages\\keras\\src\\losses.py:2976: The name tf.losses.sparse_softmax_cross_entropy is deprecated. Please use tf.compat.v1.losses.sparse_softmax_cross_entropy instead.\n",
      "\n"
     ]
    }
   ],
   "source": [
    "import os\n",
    "from pathlib import Path\n",
    "from keras.preprocessing import image\n",
    "import matplotlib as plt\n",
    "import csv\n",
    "import tensorflow as tf\n",
    "from tensorflow.keras.preprocessing.image import ImageDataGenerator\n",
    "from tensorflow.keras.models import Sequential\n",
    "from tensorflow.keras.layers import Conv2D, MaxPooling2D, Flatten, Dense, Dropout\n",
    "from tensorflow.keras.utils import to_categorical\n",
    "import os\n",
    "from tensorflow.keras.models import load_model\n",
    "import numpy as np"
   ]
  },
  {
   "cell_type": "code",
   "execution_count": 2,
   "metadata": {},
   "outputs": [
    {
     "name": "stdout",
     "output_type": "stream",
     "text": [
      "{'Bulbasaur': 1, 'Ivysaur': 2, 'Venusaur': 3, 'VenusaurMega Venusaur': 3, 'Charmander': 4, 'Charmeleon': 5, 'Charizard': 6, 'CharizardMega Charizard X': 6, 'CharizardMega Charizard Y': 6, 'Squirtle': 7, 'Wartortle': 8, 'Blastoise': 9, 'BlastoiseMega Blastoise': 9, 'Caterpie': 10, 'Metapod': 11, 'Butterfree': 12, 'Weedle': 13, 'Kakuna': 14, 'Beedrill': 15, 'BeedrillMega Beedrill': 15, 'Pidgey': 16, 'Pidgeotto': 17, 'Pidgeot': 18, 'PidgeotMega Pidgeot': 18, 'Rattata': 19, 'Raticate': 20, 'Spearow': 21, 'Fearow': 22, 'Ekans': 23, 'Arbok': 24, 'Pikachu': 25, 'Raichu': 26, 'Sandshrew': 27, 'Sandslash': 28, 'Nidoranâ™€': 29, 'Nidorina': 30, 'Nidoqueen': 31, 'Nidoranâ™‚': 32, 'Nidorino': 33, 'Nidoking': 34, 'Clefairy': 35, 'Clefable': 36, 'Vulpix': 37, 'Ninetales': 38, 'Jigglypuff': 39, 'Wigglytuff': 40, 'Zubat': 41, 'Golbat': 42, 'Oddish': 43, 'Gloom': 44, 'Vileplume': 45, 'Paras': 46, 'Parasect': 47, 'Venonat': 48, 'Venomoth': 49, 'Diglett': 50, 'Dugtrio': 51, 'Meowth': 52, 'Persian': 53, 'Psyduck': 54, 'Golduck': 55, 'Mankey': 56, 'Primeape': 57, 'Growlithe': 58, 'Arcanine': 59, 'Poliwag': 60, 'Poliwhirl': 61, 'Poliwrath': 62, 'Abra': 63, 'Kadabra': 64, 'Alakazam': 65, 'AlakazamMega Alakazam': 65, 'Machop': 66, 'Machoke': 67, 'Machamp': 68, 'Bellsprout': 69, 'Weepinbell': 70, 'Victreebel': 71, 'Tentacool': 72, 'Tentacruel': 73, 'Geodude': 74, 'Graveler': 75, 'Golem': 76, 'Ponyta': 77, 'Rapidash': 78, 'Slowpoke': 79, 'Slowbro': 80, 'SlowbroMega Slowbro': 80, 'Magnemite': 81, 'Magneton': 82, \"Farfetch'd\": 83, 'Doduo': 84, 'Dodrio': 85, 'Seel': 86, 'Dewgong': 87, 'Grimer': 88, 'Muk': 89, 'Shellder': 90, 'Cloyster': 91, 'Gastly': 92, 'Haunter': 93, 'Gengar': 94, 'GengarMega Gengar': 94, 'Onix': 95, 'Drowzee': 96, 'Hypno': 97, 'Krabby': 98, 'Kingler': 99, 'Voltorb': 100, 'Electrode': 101, 'Exeggcute': 102, 'Exeggutor': 103, 'Cubone': 104, 'Marowak': 105, 'Hitmonlee': 106, 'Hitmonchan': 107, 'Lickitung': 108, 'Koffing': 109, 'Weezing': 110, 'Rhyhorn': 111, 'Rhydon': 112, 'Chansey': 113, 'Tangela': 114, 'Kangaskhan': 115, 'KangaskhanMega Kangaskhan': 115, 'Horsea': 116, 'Seadra': 117, 'Goldeen': 118, 'Seaking': 119, 'Staryu': 120, 'Starmie': 121, 'Mr. Mime': 122, 'Scyther': 123, 'Jynx': 124, 'Electabuzz': 125, 'Magmar': 126, 'Pinsir': 127, 'PinsirMega Pinsir': 127, 'Tauros': 128, 'Magikarp': 129, 'Gyarados': 130, 'GyaradosMega Gyarados': 130, 'Lapras': 131, 'Ditto': 132, 'Eevee': 133, 'Vaporeon': 134, 'Jolteon': 135, 'Flareon': 136, 'Porygon': 137, 'Omanyte': 138, 'Omastar': 139, 'Kabuto': 140, 'Kabutops': 141, 'Aerodactyl': 142, 'AerodactylMega Aerodactyl': 142, 'Snorlax': 143, 'Articuno': 144, 'Zapdos': 145, 'Moltres': 146, 'Dratini': 147, 'Dragonair': 148, 'Dragonite': 149, 'Mewtwo': 150, 'MewtwoMega Mewtwo X': 150, 'MewtwoMega Mewtwo Y': 150, 'Mew': 151, 'Chikorita': 152, 'Bayleef': 153, 'Meganium': 154, 'Cyndaquil': 155, 'Quilava': 156, 'Typhlosion': 157, 'Totodile': 158, 'Croconaw': 159, 'Feraligatr': 160, 'Sentret': 161, 'Furret': 162, 'Hoothoot': 163, 'Noctowl': 164, 'Ledyba': 165, 'Ledian': 166, 'Spinarak': 167, 'Ariados': 168, 'Crobat': 169, 'Chinchou': 170, 'Lanturn': 171, 'Pichu': 172, 'Cleffa': 173, 'Igglybuff': 174, 'Togepi': 175, 'Togetic': 176, 'Natu': 177, 'Xatu': 178, 'Mareep': 179, 'Flaaffy': 180, 'Ampharos': 181, 'AmpharosMega Ampharos': 181, 'Bellossom': 182, 'Marill': 183, 'Azumarill': 184, 'Sudowoodo': 185, 'Politoed': 186, 'Hoppip': 187, 'Skiploom': 188, 'Jumpluff': 189, 'Aipom': 190, 'Sunkern': 191, 'Sunflora': 192, 'Yanma': 193, 'Wooper': 194, 'Quagsire': 195, 'Espeon': 196, 'Umbreon': 197, 'Murkrow': 198, 'Slowking': 199, 'Misdreavus': 200, 'Unown': 201, 'Wobbuffet': 202, 'Girafarig': 203, 'Pineco': 204, 'Forretress': 205, 'Dunsparce': 206, 'Gligar': 207, 'Steelix': 208, 'SteelixMega Steelix': 208, 'Snubbull': 209, 'Granbull': 210, 'Qwilfish': 211, 'Scizor': 212, 'ScizorMega Scizor': 212, 'Shuckle': 213, 'Heracross': 214, 'HeracrossMega Heracross': 214, 'Sneasel': 215, 'Teddiursa': 216, 'Ursaring': 217, 'Slugma': 218, 'Magcargo': 219, 'Swinub': 220, 'Piloswine': 221, 'Corsola': 222, 'Remoraid': 223, 'Octillery': 224, 'Delibird': 225, 'Mantine': 226, 'Skarmory': 227, 'Houndour': 228, 'Houndoom': 229, 'HoundoomMega Houndoom': 229, 'Kingdra': 230, 'Phanpy': 231, 'Donphan': 232, 'Porygon2': 233, 'Stantler': 234, 'Smeargle': 235, 'Tyrogue': 236, 'Hitmontop': 237, 'Smoochum': 238, 'Elekid': 239, 'Magby': 240, 'Miltank': 241, 'Blissey': 242, 'Raikou': 243, 'Entei': 244, 'Suicune': 245, 'Larvitar': 246, 'Pupitar': 247, 'Tyranitar': 248, 'TyranitarMega Tyranitar': 248, 'Lugia': 249, 'Ho-oh': 250, 'Celebi': 251, 'Treecko': 252, 'Grovyle': 253, 'Sceptile': 254, 'SceptileMega Sceptile': 254, 'Torchic': 255, 'Combusken': 256, 'Blaziken': 257, 'BlazikenMega Blaziken': 257, 'Mudkip': 258, 'Marshtomp': 259, 'Swampert': 260, 'SwampertMega Swampert': 260, 'Poochyena': 261, 'Mightyena': 262, 'Zigzagoon': 263, 'Linoone': 264, 'Wurmple': 265, 'Silcoon': 266, 'Beautifly': 267, 'Cascoon': 268, 'Dustox': 269, 'Lotad': 270, 'Lombre': 271, 'Ludicolo': 272, 'Seedot': 273, 'Nuzleaf': 274, 'Shiftry': 275, 'Taillow': 276, 'Swellow': 277, 'Wingull': 278, 'Pelipper': 279, 'Ralts': 280, 'Kirlia': 281, 'Gardevoir': 282, 'GardevoirMega Gardevoir': 282, 'Surskit': 283, 'Masquerain': 284, 'Shroomish': 285, 'Breloom': 286, 'Slakoth': 287, 'Vigoroth': 288, 'Slaking': 289, 'Nincada': 290, 'Ninjask': 291, 'Shedinja': 292, 'Whismur': 293, 'Loudred': 294, 'Exploud': 295, 'Makuhita': 296, 'Hariyama': 297, 'Azurill': 298, 'Nosepass': 299, 'Skitty': 300, 'Delcatty': 301, 'Sableye': 302, 'SableyeMega Sableye': 302, 'Mawile': 303, 'MawileMega Mawile': 303, 'Aron': 304, 'Lairon': 305, 'Aggron': 306, 'AggronMega Aggron': 306, 'Meditite': 307, 'Medicham': 308, 'MedichamMega Medicham': 308, 'Electrike': 309, 'Manectric': 310, 'ManectricMega Manectric': 310, 'Plusle': 311, 'Minun': 312, 'Volbeat': 313, 'Illumise': 314, 'Roselia': 315, 'Gulpin': 316, 'Swalot': 317, 'Carvanha': 318, 'Sharpedo': 319, 'SharpedoMega Sharpedo': 319, 'Wailmer': 320, 'Wailord': 321, 'Numel': 322, 'Camerupt': 323, 'CameruptMega Camerupt': 323, 'Torkoal': 324, 'Spoink': 325, 'Grumpig': 326, 'Spinda': 327, 'Trapinch': 328, 'Vibrava': 329, 'Flygon': 330, 'Cacnea': 331, 'Cacturne': 332, 'Swablu': 333, 'Altaria': 334, 'AltariaMega Altaria': 334, 'Zangoose': 335, 'Seviper': 336, 'Lunatone': 337, 'Solrock': 338, 'Barboach': 339, 'Whiscash': 340, 'Corphish': 341, 'Crawdaunt': 342, 'Baltoy': 343, 'Claydol': 344, 'Lileep': 345, 'Cradily': 346, 'Anorith': 347, 'Armaldo': 348, 'Feebas': 349, 'Milotic': 350, 'Castform': 351, 'Kecleon': 352, 'Shuppet': 353, 'Banette': 354, 'BanetteMega Banette': 354, 'Duskull': 355, 'Dusclops': 356, 'Tropius': 357, 'Chimecho': 358, 'Absol': 359, 'AbsolMega Absol': 359, 'Wynaut': 360, 'Snorunt': 361, 'Glalie': 362, 'GlalieMega Glalie': 362, 'Spheal': 363, 'Sealeo': 364, 'Walrein': 365, 'Clamperl': 366, 'Huntail': 367, 'Gorebyss': 368, 'Relicanth': 369, 'Luvdisc': 370, 'Bagon': 371, 'Shelgon': 372, 'Salamence': 373, 'SalamenceMega Salamence': 373, 'Beldum': 374, 'Metang': 375, 'Metagross': 376, 'MetagrossMega Metagross': 376, 'Regirock': 377, 'Regice': 378, 'Registeel': 379, 'Latias': 380, 'LatiasMega Latias': 380, 'Latios': 381, 'LatiosMega Latios': 381, 'Kyogre': 382, 'KyogrePrimal Kyogre': 382, 'Groudon': 383, 'GroudonPrimal Groudon': 383, 'Rayquaza': 384, 'RayquazaMega Rayquaza': 384, 'Jirachi': 385, 'DeoxysNormal Forme': 386, 'DeoxysAttack Forme': 386, 'DeoxysDefense Forme': 386, 'DeoxysSpeed Forme': 386, 'Turtwig': 387, 'Grotle': 388, 'Torterra': 389, 'Chimchar': 390, 'Monferno': 391, 'Infernape': 392, 'Piplup': 393, 'Prinplup': 394, 'Empoleon': 395, 'Starly': 396, 'Staravia': 397, 'Staraptor': 398, 'Bidoof': 399, 'Bibarel': 400, 'Kricketot': 401, 'Kricketune': 402, 'Shinx': 403, 'Luxio': 404, 'Luxray': 405, 'Budew': 406, 'Roserade': 407, 'Cranidos': 408, 'Rampardos': 409, 'Shieldon': 410, 'Bastiodon': 411, 'Burmy': 412, 'WormadamPlant Cloak': 413, 'WormadamSandy Cloak': 413, 'WormadamTrash Cloak': 413, 'Mothim': 414, 'Combee': 415, 'Vespiquen': 416, 'Pachirisu': 417, 'Buizel': 418, 'Floatzel': 419, 'Cherubi': 420, 'Cherrim': 421, 'Shellos': 422, 'Gastrodon': 423, 'Ambipom': 424, 'Drifloon': 425, 'Drifblim': 426, 'Buneary': 427, 'Lopunny': 428, 'LopunnyMega Lopunny': 428, 'Mismagius': 429, 'Honchkrow': 430, 'Glameow': 431, 'Purugly': 432, 'Chingling': 433, 'Stunky': 434, 'Skuntank': 435, 'Bronzor': 436, 'Bronzong': 437, 'Bonsly': 438, 'Mime Jr.': 439, 'Happiny': 440, 'Chatot': 441, 'Spiritomb': 442, 'Gible': 443, 'Gabite': 444, 'Garchomp': 445, 'GarchompMega Garchomp': 445, 'Munchlax': 446, 'Riolu': 447, 'Lucario': 448, 'LucarioMega Lucario': 448, 'Hippopotas': 449, 'Hippowdon': 450, 'Skorupi': 451, 'Drapion': 452, 'Croagunk': 453, 'Toxicroak': 454, 'Carnivine': 455, 'Finneon': 456, 'Lumineon': 457, 'Mantyke': 458, 'Snover': 459, 'Abomasnow': 460, 'AbomasnowMega Abomasnow': 460, 'Weavile': 461, 'Magnezone': 462, 'Lickilicky': 463, 'Rhyperior': 464, 'Tangrowth': 465, 'Electivire': 466, 'Magmortar': 467, 'Togekiss': 468, 'Yanmega': 469, 'Leafeon': 470, 'Glaceon': 471, 'Gliscor': 472, 'Mamoswine': 473, 'Porygon-Z': 474, 'Gallade': 475, 'GalladeMega Gallade': 475, 'Probopass': 476, 'Dusknoir': 477, 'Froslass': 478, 'Rotom': 479, 'RotomHeat Rotom': 479, 'RotomWash Rotom': 479, 'RotomFrost Rotom': 479, 'RotomFan Rotom': 479, 'RotomMow Rotom': 479, 'Uxie': 480, 'Mesprit': 481, 'Azelf': 482, 'Dialga': 483, 'Palkia': 484, 'Heatran': 485, 'Regigigas': 486, 'GiratinaAltered Forme': 487, 'GiratinaOrigin Forme': 487, 'Cresselia': 488, 'Phione': 489, 'Manaphy': 490, 'Darkrai': 491, 'ShayminLand Forme': 492, 'ShayminSky Forme': 492, 'Arceus': 493, 'Victini': 494, 'Snivy': 495, 'Servine': 496, 'Serperior': 497, 'Tepig': 498, 'Pignite': 499, 'Emboar': 500, 'Oshawott': 501, 'Dewott': 502, 'Samurott': 503, 'Patrat': 504, 'Watchog': 505, 'Lillipup': 506, 'Herdier': 507, 'Stoutland': 508, 'Purrloin': 509, 'Liepard': 510, 'Pansage': 511, 'Simisage': 512, 'Pansear': 513, 'Simisear': 514, 'Panpour': 515, 'Simipour': 516, 'Munna': 517, 'Musharna': 518, 'Pidove': 519, 'Tranquill': 520, 'Unfezant': 521, 'Blitzle': 522, 'Zebstrika': 523, 'Roggenrola': 524, 'Boldore': 525, 'Gigalith': 526, 'Woobat': 527, 'Swoobat': 528, 'Drilbur': 529, 'Excadrill': 530, 'Audino': 531, 'AudinoMega Audino': 531, 'Timburr': 532, 'Gurdurr': 533, 'Conkeldurr': 534, 'Tympole': 535, 'Palpitoad': 536, 'Seismitoad': 537, 'Throh': 538, 'Sawk': 539, 'Sewaddle': 540, 'Swadloon': 541, 'Leavanny': 542, 'Venipede': 543, 'Whirlipede': 544, 'Scolipede': 545, 'Cottonee': 546, 'Whimsicott': 547, 'Petilil': 548, 'Lilligant': 549, 'Basculin': 550, 'Sandile': 551, 'Krokorok': 552, 'Krookodile': 553, 'Darumaka': 554, 'DarmanitanStandard Mode': 555, 'DarmanitanZen Mode': 555, 'Maractus': 556, 'Dwebble': 557, 'Crustle': 558, 'Scraggy': 559, 'Scrafty': 560, 'Sigilyph': 561, 'Yamask': 562, 'Cofagrigus': 563, 'Tirtouga': 564, 'Carracosta': 565, 'Archen': 566, 'Archeops': 567, 'Trubbish': 568, 'Garbodor': 569, 'Zorua': 570, 'Zoroark': 571, 'Minccino': 572, 'Cinccino': 573, 'Gothita': 574, 'Gothorita': 575, 'Gothitelle': 576, 'Solosis': 577, 'Duosion': 578, 'Reuniclus': 579, 'Ducklett': 580, 'Swanna': 581, 'Vanillite': 582, 'Vanillish': 583, 'Vanilluxe': 584, 'Deerling': 585, 'Sawsbuck': 586, 'Emolga': 587, 'Karrablast': 588, 'Escavalier': 589, 'Foongus': 590, 'Amoonguss': 591, 'Frillish': 592, 'Jellicent': 593, 'Alomomola': 594, 'Joltik': 595, 'Galvantula': 596, 'Ferroseed': 597, 'Ferrothorn': 598, 'Klink': 599, 'Klang': 600, 'Klinklang': 601, 'Tynamo': 602, 'Eelektrik': 603, 'Eelektross': 604, 'Elgyem': 605, 'Beheeyem': 606, 'Litwick': 607, 'Lampent': 608, 'Chandelure': 609, 'Axew': 610, 'Fraxure': 611, 'Haxorus': 612, 'Cubchoo': 613, 'Beartic': 614, 'Cryogonal': 615, 'Shelmet': 616, 'Accelgor': 617, 'Stunfisk': 618, 'Mienfoo': 619, 'Mienshao': 620, 'Druddigon': 621, 'Golett': 622, 'Golurk': 623, 'Pawniard': 624, 'Bisharp': 625, 'Bouffalant': 626, 'Rufflet': 627, 'Braviary': 628, 'Vullaby': 629, 'Mandibuzz': 630, 'Heatmor': 631, 'Durant': 632, 'Deino': 633, 'Zweilous': 634, 'Hydreigon': 635, 'Larvesta': 636, 'Volcarona': 637, 'Cobalion': 638, 'Terrakion': 639, 'Virizion': 640, 'TornadusIncarnate Forme': 641, 'TornadusTherian Forme': 641, 'ThundurusIncarnate Forme': 642, 'ThundurusTherian Forme': 642, 'Reshiram': 643, 'Zekrom': 644, 'LandorusIncarnate Forme': 645, 'LandorusTherian Forme': 645, 'Kyurem': 646, 'KyuremBlack Kyurem': 646, 'KyuremWhite Kyurem': 646, 'KeldeoOrdinary Forme': 647, 'KeldeoResolute Forme': 647, 'MeloettaAria Forme': 648, 'MeloettaPirouette Forme': 648, 'Genesect': 649, 'Chespin': 650, 'Quilladin': 651, 'Chesnaught': 652, 'Fennekin': 653, 'Braixen': 654, 'Delphox': 655, 'Froakie': 656, 'Frogadier': 657, 'Greninja': 658, 'Bunnelby': 659, 'Diggersby': 660, 'Fletchling': 661, 'Fletchinder': 662, 'Talonflame': 663, 'Scatterbug': 664, 'Spewpa': 665, 'Vivillon': 666, 'Litleo': 667, 'Pyroar': 668, 'FlabÃ©bÃ©': 669, 'Floette': 670, 'Florges': 671, 'Skiddo': 672, 'Gogoat': 673, 'Pancham': 674, 'Pangoro': 675, 'Furfrou': 676, 'Espurr': 677, 'MeowsticMale': 678, 'MeowsticFemale': 678, 'Honedge': 679, 'Doublade': 680, 'AegislashBlade Forme': 681, 'AegislashShield Forme': 681, 'Spritzee': 682, 'Aromatisse': 683, 'Swirlix': 684, 'Slurpuff': 685, 'Inkay': 686, 'Malamar': 687, 'Binacle': 688, 'Barbaracle': 689, 'Skrelp': 690, 'Dragalge': 691, 'Clauncher': 692, 'Clawitzer': 693, 'Helioptile': 694, 'Heliolisk': 695, 'Tyrunt': 696, 'Tyrantrum': 697, 'Amaura': 698, 'Aurorus': 699, 'Sylveon': 700, 'Hawlucha': 701, 'Dedenne': 702, 'Carbink': 703, 'Goomy': 704, 'Sliggoo': 705, 'Goodra': 706, 'Klefki': 707, 'Phantump': 708, 'Trevenant': 709, 'PumpkabooAverage Size': 710, 'PumpkabooSmall Size': 710, 'PumpkabooLarge Size': 710, 'PumpkabooSuper Size': 710, 'GourgeistAverage Size': 711, 'GourgeistSmall Size': 711, 'GourgeistLarge Size': 711, 'GourgeistSuper Size': 711, 'Bergmite': 712, 'Avalugg': 713, 'Noibat': 714, 'Noivern': 715, 'Xerneas': 716, 'Yveltal': 717, 'Zygarde50% Forme': 718, 'Diancie': 719, 'DiancieMega Diancie': 719, 'HoopaHoopa Confined': 720, 'HoopaHoopa Unbound': 720, 'Volcanion': 721}\n"
     ]
    }
   ],
   "source": [
    "def csv_to_dict(csv_file, key_column, value_column):\n",
    "    result_dict = {}\n",
    "    with open(csv_file, mode='r') as file:\n",
    "        csv_reader = csv.DictReader(file)\n",
    "        for row in csv_reader:\n",
    "            key = row[key_column]\n",
    "            value = int(row[value_column])\n",
    "            result_dict[key] = value\n",
    "    return result_dict\n",
    "\n",
    "csv_file = 'pokemon.csv'  # Replace 'your_file.csv' with the path to your CSV file\n",
    "key_column = 'Name'  # Specify the column name for keys\n",
    "value_column = '#'  # Specify the column name for values\n",
    "label_dict = csv_to_dict(csv_file, key_column, value_column)\n",
    "print(label_dict)"
   ]
  },
  {
   "cell_type": "code",
   "execution_count": 3,
   "metadata": {},
   "outputs": [],
   "source": [
    "# Define constants\n",
    "IMAGE_SIZE = (150, 150)\n",
    "BATCH_SIZE = 32\n",
    "EPOCHS = 20\n",
    "num_classes = len(label_dict)"
   ]
  },
  {
   "cell_type": "code",
   "execution_count": 4,
   "metadata": {},
   "outputs": [],
   "source": [
    "# Create ImageDataGenerator for data augmentation and preprocessing\n",
    "train_datagen = ImageDataGenerator(\n",
    "    rescale=1./255,\n",
    "    rotation_range=20,\n",
    "    width_shift_range=0.2,\n",
    "    height_shift_range=0.2,\n",
    "    shear_range=0.2,\n",
    "    zoom_range=0.2,\n",
    "    horizontal_flip=True,\n",
    "    validation_split=0.2  # Split data into training and validation sets\n",
    ")"
   ]
  },
  {
   "cell_type": "code",
   "execution_count": 5,
   "metadata": {},
   "outputs": [
    {
     "name": "stdout",
     "output_type": "stream",
     "text": [
      "Found 759 images belonging to 4 classes.\n"
     ]
    }
   ],
   "source": [
    "# Load and preprocess training and validation data\n",
    "train_generator = train_datagen.flow_from_directory(\n",
    "    './pokemon_gen1_dbs/',  # Directory containing subfolders for each Pokemon\n",
    "    target_size=IMAGE_SIZE,\n",
    "    batch_size=BATCH_SIZE,\n",
    "    class_mode='categorical',\n",
    "    subset='training'  # Specify training subset\n",
    ")\n"
   ]
  },
  {
   "cell_type": "code",
   "execution_count": 9,
   "metadata": {},
   "outputs": [
    {
     "name": "stdout",
     "output_type": "stream",
     "text": [
      "Found 188 images belonging to 4 classes.\n"
     ]
    }
   ],
   "source": [
    "validation_generator = train_datagen.flow_from_directory(\n",
    "    './pokemon_gen1_dbs/',  # Same directory as training data\n",
    "    target_size=IMAGE_SIZE,\n",
    "    batch_size=BATCH_SIZE,\n",
    "    class_mode='categorical',\n",
    "    subset='validation'  # Specify validation subset\n",
    ")"
   ]
  },
  {
   "cell_type": "code",
   "execution_count": 7,
   "metadata": {},
   "outputs": [
    {
     "name": "stdout",
     "output_type": "stream",
     "text": [
      "Integer List: [1, 4, 43, 25]\n"
     ]
    }
   ],
   "source": [
    "path = './pokemon_gen1_dbs/'\n",
    "integer_labels = []\n",
    "\n",
    "for folder_name in os.listdir(path):\n",
    "    folder_path = os.path.join(path, folder_name)\n",
    "    if os.path.isdir(folder_path):\n",
    "        # Check if the folder name exists in label_dict\n",
    "        if folder_name in label_dict:\n",
    "            integer_value = label_dict[folder_name]\n",
    "            integer_labels.append(integer_value)\n",
    "        else:\n",
    "            print(f\"Ignoring folder '{folder_name}' as it does not have a corresponding label in label_dict.\")\n",
    "\n",
    "print(\"Integer List:\", integer_labels)"
   ]
  },
  {
   "cell_type": "code",
   "execution_count": 11,
   "metadata": {},
   "outputs": [
    {
     "name": "stdout",
     "output_type": "stream",
     "text": [
      "WARNING:tensorflow:From c:\\Users\\ADMIN\\AppData\\Local\\Programs\\Python\\Python39\\lib\\site-packages\\keras\\src\\backend.py:873: The name tf.get_default_graph is deprecated. Please use tf.compat.v1.get_default_graph instead.\n",
      "\n",
      "WARNING:tensorflow:From c:\\Users\\ADMIN\\AppData\\Local\\Programs\\Python\\Python39\\lib\\site-packages\\keras\\src\\layers\\pooling\\max_pooling2d.py:161: The name tf.nn.max_pool is deprecated. Please use tf.nn.max_pool2d instead.\n",
      "\n"
     ]
    }
   ],
   "source": [
    "integer_labels = [0,1,2,3]\n",
    "num_classes = len(set(integer_labels))\n",
    "\n",
    "one_hot_labels = to_categorical(integer_labels, num_classes=num_classes)\n",
    "\n",
    "# Update model output layer to match the number of classes\n",
    "model = Sequential([\n",
    "    Conv2D(32, (3, 3), activation='relu', input_shape=(IMAGE_SIZE[0], IMAGE_SIZE[1], 3)),\n",
    "    MaxPooling2D((2, 2)),\n",
    "    Conv2D(64, (3, 3), activation='relu'),\n",
    "    MaxPooling2D((2, 2)),\n",
    "    Conv2D(128, (3, 3), activation='relu'),\n",
    "    MaxPooling2D((2, 2)),\n",
    "    Flatten(),\n",
    "    Dense(128, activation='relu'),\n",
    "    Dropout(0.5),\n",
    "    Dense(num_classes, activation='softmax')  # Update output layer units\n",
    "])"
   ]
  },
  {
   "cell_type": "code",
   "execution_count": 12,
   "metadata": {},
   "outputs": [
    {
     "name": "stdout",
     "output_type": "stream",
     "text": [
      "WARNING:tensorflow:From c:\\Users\\ADMIN\\AppData\\Local\\Programs\\Python\\Python39\\lib\\site-packages\\keras\\src\\optimizers\\__init__.py:309: The name tf.train.Optimizer is deprecated. Please use tf.compat.v1.train.Optimizer instead.\n",
      "\n"
     ]
    }
   ],
   "source": [
    "# Compile the model\n",
    "model.compile(optimizer='adam', loss='categorical_crossentropy', metrics=['accuracy'])"
   ]
  },
  {
   "cell_type": "code",
   "execution_count": 13,
   "metadata": {},
   "outputs": [
    {
     "name": "stdout",
     "output_type": "stream",
     "text": [
      "Epoch 1/20\n",
      "WARNING:tensorflow:From c:\\Users\\ADMIN\\AppData\\Local\\Programs\\Python\\Python39\\lib\\site-packages\\keras\\src\\utils\\tf_utils.py:492: The name tf.ragged.RaggedTensorValue is deprecated. Please use tf.compat.v1.ragged.RaggedTensorValue instead.\n",
      "\n",
      "WARNING:tensorflow:From c:\\Users\\ADMIN\\AppData\\Local\\Programs\\Python\\Python39\\lib\\site-packages\\keras\\src\\engine\\base_layer_utils.py:384: The name tf.executing_eagerly_outside_functions is deprecated. Please use tf.compat.v1.executing_eagerly_outside_functions instead.\n",
      "\n",
      " 2/23 [=>............................] - ETA: 7s - loss: 1.9388 - accuracy: 0.3281 "
     ]
    },
    {
     "name": "stderr",
     "output_type": "stream",
     "text": [
      "c:\\Users\\ADMIN\\AppData\\Local\\Programs\\Python\\Python39\\lib\\site-packages\\PIL\\Image.py:981: UserWarning: Palette images with Transparency expressed in bytes should be converted to RGBA images\n",
      "  warnings.warn(\n"
     ]
    },
    {
     "name": "stdout",
     "output_type": "stream",
     "text": [
      "23/23 [==============================] - 12s 507ms/step - loss: 1.1994 - accuracy: 0.5323 - val_loss: 0.5743 - val_accuracy: 0.8375\n",
      "Epoch 2/20\n",
      "23/23 [==============================] - 8s 353ms/step - loss: 0.6390 - accuracy: 0.7620 - val_loss: 0.4873 - val_accuracy: 0.7750\n",
      "Epoch 3/20\n",
      "23/23 [==============================] - 8s 348ms/step - loss: 0.5549 - accuracy: 0.8212 - val_loss: 0.4698 - val_accuracy: 0.8125\n",
      "Epoch 4/20\n",
      "23/23 [==============================] - 8s 358ms/step - loss: 0.5870 - accuracy: 0.7812 - val_loss: 0.4579 - val_accuracy: 0.8188\n",
      "Epoch 5/20\n",
      "23/23 [==============================] - 8s 355ms/step - loss: 0.4460 - accuracy: 0.8569 - val_loss: 0.2246 - val_accuracy: 0.9312\n",
      "Epoch 6/20\n",
      "23/23 [==============================] - 8s 347ms/step - loss: 0.3785 - accuracy: 0.8721 - val_loss: 0.2668 - val_accuracy: 0.9062\n",
      "Epoch 7/20\n",
      "23/23 [==============================] - 8s 357ms/step - loss: 0.3961 - accuracy: 0.8652 - val_loss: 0.2259 - val_accuracy: 0.9062\n",
      "Epoch 8/20\n",
      "23/23 [==============================] - 8s 358ms/step - loss: 0.3931 - accuracy: 0.8858 - val_loss: 0.1846 - val_accuracy: 0.9438\n",
      "Epoch 9/20\n",
      "23/23 [==============================] - 8s 354ms/step - loss: 0.3308 - accuracy: 0.8858 - val_loss: 0.1998 - val_accuracy: 0.9250\n",
      "Epoch 10/20\n",
      "23/23 [==============================] - 8s 355ms/step - loss: 0.3008 - accuracy: 0.8996 - val_loss: 0.1394 - val_accuracy: 0.9500\n",
      "Epoch 11/20\n",
      "23/23 [==============================] - 8s 359ms/step - loss: 0.3385 - accuracy: 0.8872 - val_loss: 0.1760 - val_accuracy: 0.9375\n",
      "Epoch 12/20\n",
      "23/23 [==============================] - 8s 358ms/step - loss: 0.2797 - accuracy: 0.8913 - val_loss: 0.1764 - val_accuracy: 0.9312\n",
      "Epoch 13/20\n",
      "23/23 [==============================] - 8s 360ms/step - loss: 0.3100 - accuracy: 0.9133 - val_loss: 0.1249 - val_accuracy: 0.9500\n",
      "Epoch 14/20\n",
      "23/23 [==============================] - 8s 357ms/step - loss: 0.2635 - accuracy: 0.9188 - val_loss: 0.1928 - val_accuracy: 0.9375\n",
      "Epoch 15/20\n",
      "23/23 [==============================] - 8s 369ms/step - loss: 0.2444 - accuracy: 0.9271 - val_loss: 0.0603 - val_accuracy: 0.9875\n",
      "Epoch 16/20\n",
      "23/23 [==============================] - 8s 363ms/step - loss: 0.2650 - accuracy: 0.9161 - val_loss: 0.1643 - val_accuracy: 0.9312\n",
      "Epoch 17/20\n",
      "23/23 [==============================] - 8s 356ms/step - loss: 0.2321 - accuracy: 0.9161 - val_loss: 0.1445 - val_accuracy: 0.9563\n",
      "Epoch 18/20\n",
      "23/23 [==============================] - 8s 359ms/step - loss: 0.2467 - accuracy: 0.9175 - val_loss: 0.1434 - val_accuracy: 0.9438\n",
      "Epoch 19/20\n",
      "23/23 [==============================] - 8s 359ms/step - loss: 0.2468 - accuracy: 0.9271 - val_loss: 0.1075 - val_accuracy: 0.9750\n",
      "Epoch 20/20\n",
      "23/23 [==============================] - 8s 341ms/step - loss: 0.2519 - accuracy: 0.9092 - val_loss: 0.1624 - val_accuracy: 0.9563\n"
     ]
    },
    {
     "data": {
      "text/plain": [
       "<keras.src.callbacks.History at 0x19531356730>"
      ]
     },
     "execution_count": 13,
     "metadata": {},
     "output_type": "execute_result"
    }
   ],
   "source": [
    "# Train the model\n",
    "model.fit(\n",
    "    train_generator,\n",
    "    steps_per_epoch=train_generator.samples // BATCH_SIZE,\n",
    "    epochs=EPOCHS,\n",
    "    validation_data=validation_generator,\n",
    "    validation_steps=validation_generator.samples // BATCH_SIZE\n",
    ")"
   ]
  },
  {
   "cell_type": "code",
   "execution_count": 14,
   "metadata": {},
   "outputs": [
    {
     "name": "stdout",
     "output_type": "stream",
     "text": [
      "6/6 [==============================] - 2s 279ms/step - loss: 0.1693 - accuracy: 0.9468\n",
      "Validation Accuracy: 0.9468085169792175\n"
     ]
    }
   ],
   "source": [
    "evaluation = model.evaluate(validation_generator)\n",
    "print(f\"Validation Accuracy: {evaluation[1]}\")"
   ]
  },
  {
   "cell_type": "code",
   "execution_count": 15,
   "metadata": {},
   "outputs": [
    {
     "name": "stderr",
     "output_type": "stream",
     "text": [
      "c:\\Users\\ADMIN\\AppData\\Local\\Programs\\Python\\Python39\\lib\\site-packages\\keras\\src\\engine\\training.py:3103: UserWarning: You are saving your model as an HDF5 file via `model.save()`. This file format is considered legacy. We recommend using instead the native Keras format, e.g. `model.save('my_model.keras')`.\n",
      "  saving_api.save_model(\n"
     ]
    }
   ],
   "source": [
    "model.save(\"pokemon_gen1_classifier.h5\")"
   ]
  },
  {
   "cell_type": "code",
   "execution_count": 16,
   "metadata": {},
   "outputs": [],
   "source": [
    "# Load saved model\n",
    "loaded_model = load_model('pokemon_gen1_classifier.h5')\n",
    "\n",
    "# Define a function to preprocess images\n",
    "def preprocess_image(img_path, target_size=(150, 150)):\n",
    "    img = image.load_img(img_path, target_size=target_size)\n",
    "    img_array = image.img_to_array(img)\n",
    "    img_array = np.expand_dims(img_array, axis=0)\n",
    "    img_array /= 255.0  # Normalize pixel values\n",
    "    return img_array"
   ]
  },
  {
   "cell_type": "code",
   "execution_count": 17,
   "metadata": {},
   "outputs": [],
   "source": [
    "# Example usage: Load and preprocess an unseen image\n",
    "unseen_image_path = input('Enter Image Path')\n",
    "preprocessed_image = preprocess_image(unseen_image_path)"
   ]
  },
  {
   "cell_type": "code",
   "execution_count": 18,
   "metadata": {},
   "outputs": [
    {
     "name": "stdout",
     "output_type": "stream",
     "text": [
      "Integer List: [1, 4, 43, 25]\n"
     ]
    }
   ],
   "source": [
    "path = './pokemon_gen1_dbs/'\n",
    "new_labels = []\n",
    "\n",
    "for folder_name in os.listdir(path):\n",
    "    folder_path = os.path.join(path, folder_name)\n",
    "    if os.path.isdir(folder_path):\n",
    "        # Check if the folder name exists in label_dict\n",
    "        if folder_name in label_dict:\n",
    "            integer_value = label_dict[folder_name]\n",
    "            new_labels.append(integer_value)\n",
    "        else:\n",
    "            print(f\"Ignoring folder '{folder_name}' as it does not have a corresponding label in label_dict.\")\n",
    "\n",
    "print(\"Integer List:\", new_labels)"
   ]
  },
  {
   "cell_type": "code",
   "execution_count": 19,
   "metadata": {},
   "outputs": [
    {
     "name": "stdout",
     "output_type": "stream",
     "text": [
      "{0: 1, 1: 4, 2: 43, 3: 25}\n"
     ]
    }
   ],
   "source": [
    "index_mapping = {}\n",
    "for i, label_index in enumerate(new_labels):\n",
    "    index_mapping[i] = label_index\n",
    "\n",
    "print(index_mapping)"
   ]
  },
  {
   "cell_type": "code",
   "execution_count": 20,
   "metadata": {},
   "outputs": [],
   "source": [
    "def get_key_from_value(dictionary, target_value):\n",
    "    for key, value in dictionary.items():\n",
    "        if value == target_value:\n",
    "            return key\n",
    "    return None"
   ]
  },
  {
   "cell_type": "code",
   "execution_count": 21,
   "metadata": {},
   "outputs": [
    {
     "name": "stdout",
     "output_type": "stream",
     "text": [
      "1/1 [==============================] - 0s 46ms/step\n",
      "Predicted Class Index: Pikachu\n"
     ]
    }
   ],
   "source": [
    "# Make predictions on the preprocessed image\n",
    "predictions = loaded_model.predict(preprocessed_image)\n",
    "\n",
    "# Get the predicted class label\n",
    "predicted_class = np.argmax(predictions)\n",
    "predicted_label_value = index_mapping[predicted_class]\n",
    "\n",
    "print(f\"Predicted Class Index: {get_key_from_value(label_dict,predicted_label_value)}\")"
   ]
  }
 ],
 "metadata": {
  "kernelspec": {
   "display_name": "Python 3",
   "language": "python",
   "name": "python3"
  },
  "language_info": {
   "codemirror_mode": {
    "name": "ipython",
    "version": 3
   },
   "file_extension": ".py",
   "mimetype": "text/x-python",
   "name": "python",
   "nbconvert_exporter": "python",
   "pygments_lexer": "ipython3",
   "version": "3.9.0"
  }
 },
 "nbformat": 4,
 "nbformat_minor": 2
}
